{
 "cells": [
  {
   "cell_type": "markdown",
   "id": "6f4edef2-4ad8-4362-bcb3-657f9d87eb0f",
   "metadata": {},
   "source": [
    "## Activity: Going through a machine learning problem yourself"
   ]
  },
  {
   "cell_type": "code",
   "execution_count": 1,
   "id": "75f0f685-40be-479b-a5fd-154c247a199f",
   "metadata": {},
   "outputs": [],
   "source": [
    "import pandas as pd\n",
    "import numpy as np"
   ]
  },
  {
   "cell_type": "markdown",
   "id": "7b262a2b-8857-4794-8a5f-54fbe1619b96",
   "metadata": {},
   "source": [
    "### Task: Predict House Prices in Iowa\n",
    "\n",
    "Original Dataset: https://www.kaggle.com/c/house-prices-advanced-regression-techniques/data\n",
    "\n",
    "Note: There are 81 columns in the original dataset, I have reduced it to 14 columns to make it easier to work with. "
   ]
  },
  {
   "cell_type": "markdown",
   "id": "5d97646f-5c19-4416-9c0f-1cf24bb6c214",
   "metadata": {},
   "source": [
    "### What type of machine learning problem is this and why? (i.e. Supervised, Unsupervised, or Reinforcement?) \n",
    "\n",
    "Answer: "
   ]
  },
  {
   "cell_type": "code",
   "execution_count": 2,
   "id": "e507caba-6d42-40a0-b375-f6e2e073b1cb",
   "metadata": {},
   "outputs": [
    {
     "data": {
      "text/html": [
       "<div>\n",
       "<style scoped>\n",
       "    .dataframe tbody tr th:only-of-type {\n",
       "        vertical-align: middle;\n",
       "    }\n",
       "\n",
       "    .dataframe tbody tr th {\n",
       "        vertical-align: top;\n",
       "    }\n",
       "\n",
       "    .dataframe thead th {\n",
       "        text-align: right;\n",
       "    }\n",
       "</style>\n",
       "<table border=\"1\" class=\"dataframe\">\n",
       "  <thead>\n",
       "    <tr style=\"text-align: right;\">\n",
       "      <th></th>\n",
       "      <th>LotArea</th>\n",
       "      <th>Neighborhood</th>\n",
       "      <th>OverallQual</th>\n",
       "      <th>OverallCond</th>\n",
       "      <th>YearBuilt</th>\n",
       "      <th>BsmtFinSF1</th>\n",
       "      <th>1stFlrSF</th>\n",
       "      <th>GrLivArea</th>\n",
       "      <th>FullBath</th>\n",
       "      <th>HalfBath</th>\n",
       "      <th>TotRmsAbvGrd</th>\n",
       "      <th>GarageCars</th>\n",
       "      <th>PoolArea</th>\n",
       "      <th>SalePrice</th>\n",
       "    </tr>\n",
       "    <tr>\n",
       "      <th>Id</th>\n",
       "      <th></th>\n",
       "      <th></th>\n",
       "      <th></th>\n",
       "      <th></th>\n",
       "      <th></th>\n",
       "      <th></th>\n",
       "      <th></th>\n",
       "      <th></th>\n",
       "      <th></th>\n",
       "      <th></th>\n",
       "      <th></th>\n",
       "      <th></th>\n",
       "      <th></th>\n",
       "      <th></th>\n",
       "    </tr>\n",
       "  </thead>\n",
       "  <tbody>\n",
       "    <tr>\n",
       "      <th>1</th>\n",
       "      <td>8450</td>\n",
       "      <td>CollgCr</td>\n",
       "      <td>7</td>\n",
       "      <td>5</td>\n",
       "      <td>2003</td>\n",
       "      <td>706</td>\n",
       "      <td>856</td>\n",
       "      <td>1710</td>\n",
       "      <td>2</td>\n",
       "      <td>1</td>\n",
       "      <td>8</td>\n",
       "      <td>2</td>\n",
       "      <td>0</td>\n",
       "      <td>208500</td>\n",
       "    </tr>\n",
       "    <tr>\n",
       "      <th>2</th>\n",
       "      <td>9600</td>\n",
       "      <td>Veenker</td>\n",
       "      <td>6</td>\n",
       "      <td>8</td>\n",
       "      <td>1976</td>\n",
       "      <td>978</td>\n",
       "      <td>1262</td>\n",
       "      <td>1262</td>\n",
       "      <td>2</td>\n",
       "      <td>0</td>\n",
       "      <td>6</td>\n",
       "      <td>2</td>\n",
       "      <td>0</td>\n",
       "      <td>181500</td>\n",
       "    </tr>\n",
       "    <tr>\n",
       "      <th>3</th>\n",
       "      <td>11250</td>\n",
       "      <td>CollgCr</td>\n",
       "      <td>7</td>\n",
       "      <td>5</td>\n",
       "      <td>2001</td>\n",
       "      <td>486</td>\n",
       "      <td>920</td>\n",
       "      <td>1786</td>\n",
       "      <td>2</td>\n",
       "      <td>1</td>\n",
       "      <td>6</td>\n",
       "      <td>2</td>\n",
       "      <td>0</td>\n",
       "      <td>223500</td>\n",
       "    </tr>\n",
       "    <tr>\n",
       "      <th>4</th>\n",
       "      <td>9550</td>\n",
       "      <td>Crawfor</td>\n",
       "      <td>7</td>\n",
       "      <td>5</td>\n",
       "      <td>1915</td>\n",
       "      <td>216</td>\n",
       "      <td>961</td>\n",
       "      <td>1717</td>\n",
       "      <td>1</td>\n",
       "      <td>0</td>\n",
       "      <td>7</td>\n",
       "      <td>3</td>\n",
       "      <td>0</td>\n",
       "      <td>140000</td>\n",
       "    </tr>\n",
       "    <tr>\n",
       "      <th>5</th>\n",
       "      <td>14260</td>\n",
       "      <td>NoRidge</td>\n",
       "      <td>8</td>\n",
       "      <td>5</td>\n",
       "      <td>2000</td>\n",
       "      <td>655</td>\n",
       "      <td>1145</td>\n",
       "      <td>2198</td>\n",
       "      <td>2</td>\n",
       "      <td>1</td>\n",
       "      <td>9</td>\n",
       "      <td>3</td>\n",
       "      <td>0</td>\n",
       "      <td>250000</td>\n",
       "    </tr>\n",
       "  </tbody>\n",
       "</table>\n",
       "</div>"
      ],
      "text/plain": [
       "    LotArea Neighborhood  OverallQual  OverallCond  YearBuilt  BsmtFinSF1  \\\n",
       "Id                                                                          \n",
       "1      8450      CollgCr            7            5       2003         706   \n",
       "2      9600      Veenker            6            8       1976         978   \n",
       "3     11250      CollgCr            7            5       2001         486   \n",
       "4      9550      Crawfor            7            5       1915         216   \n",
       "5     14260      NoRidge            8            5       2000         655   \n",
       "\n",
       "    1stFlrSF  GrLivArea  FullBath  HalfBath  TotRmsAbvGrd  GarageCars  \\\n",
       "Id                                                                      \n",
       "1        856       1710         2         1             8           2   \n",
       "2       1262       1262         2         0             6           2   \n",
       "3        920       1786         2         1             6           2   \n",
       "4        961       1717         1         0             7           3   \n",
       "5       1145       2198         2         1             9           3   \n",
       "\n",
       "    PoolArea  SalePrice  \n",
       "Id                       \n",
       "1          0     208500  \n",
       "2          0     181500  \n",
       "3          0     223500  \n",
       "4          0     140000  \n",
       "5          0     250000  "
      ]
     },
     "execution_count": 2,
     "metadata": {},
     "output_type": "execute_result"
    }
   ],
   "source": [
    "# read in the data\n",
    "iowa = pd.read_csv('https://raw.githubusercontent.com/shailm99/intro2ML/main/iowa_modified.csv', index_col = 'Id')\n",
    "iowa.head()"
   ]
  },
  {
   "cell_type": "code",
   "execution_count": 3,
   "id": "f9c2eaed-6cc2-43b0-8e0b-3eb7241d212a",
   "metadata": {},
   "outputs": [
    {
     "data": {
      "text/plain": [
       "(1460, 14)"
      ]
     },
     "execution_count": 3,
     "metadata": {},
     "output_type": "execute_result"
    }
   ],
   "source": [
    "iowa.shape"
   ]
  },
  {
   "cell_type": "markdown",
   "id": "a64caf6f-ea0b-4406-a2a7-0f6fae21a16d",
   "metadata": {},
   "source": [
    "### Columns in the Dataset\n",
    "\n",
    "- SalePrice - the property's sale price in dollars. This is the target variable that you're trying to predict.\n",
    "- LotArea: Lot size in square feet\n",
    "- Neighborhood: Physical locations within Ames city limits\n",
    "- OverallQual: Overall material and finish quality\n",
    "- OverallCond: Overall condition rating\n",
    "- YearBuilt: Original construction date\n",
    "- BsmtFinSF1: Type 1 finished square feet\n",
    "- 1stFlrSF: First Floor square feet\n",
    "- GrLivArea: Above grade (ground) living area square feet\n",
    "- FullBath: Full bathrooms above grade\n",
    "- HalfBath: Half baths above grade\n",
    "- TotRmsAbvGrd: Total rooms above grade (does not include bathrooms)\n",
    "- GarageCars: Size of garage in car capacity\n",
    "- PoolArea: Pool area in square feet\n",
    "\n"
   ]
  },
  {
   "cell_type": "markdown",
   "id": "52f73206-6ccf-4e30-b7b3-8675435fa2c3",
   "metadata": {},
   "source": [
    "### Step 1: Model Preprocesssing"
   ]
  },
  {
   "cell_type": "markdown",
   "id": "880c61fe-753c-48e1-b073-4c03a91d38d5",
   "metadata": {},
   "source": [
    "##### 1) Feature Selection/Engineering \n",
    "\n",
    "Remember you should always explore your data first, perform feature engineering and select the best features to get the best model possible \n",
    "\n",
    "However, in order to save some time we will use the features given in this dataset"
   ]
  },
  {
   "cell_type": "code",
   "execution_count": null,
   "id": "14db3b57-1bf4-4702-b4d2-b37568cf4460",
   "metadata": {},
   "outputs": [],
   "source": [
    "# Split data in X and y\n",
    "\n",
    "X = iowa.drop(columns  = [])#add target col\n",
    "y = iowa[]   #add target col"
   ]
  },
  {
   "cell_type": "markdown",
   "id": "c8e13e0c-5f9d-4d11-9e67-50db43badfe3",
   "metadata": {},
   "source": [
    "##### 2) Split data into train-test split"
   ]
  },
  {
   "cell_type": "code",
   "execution_count": null,
   "id": "666fc682-ded4-4359-b985-915000579eed",
   "metadata": {},
   "outputs": [],
   "source": [
    "# import the respective function from sklearn\n",
    "\n",
    "\n",
    "# create a 75/25 train test split "
   ]
  },
  {
   "cell_type": "markdown",
   "id": "262bc3dc-8499-45a6-a0f7-9d57680004b8",
   "metadata": {},
   "source": [
    "##### 3) Check for any missing values \n",
    "\n",
    "Hint: there should not be any missing values"
   ]
  },
  {
   "cell_type": "code",
   "execution_count": null,
   "id": "31fe37f2-67d7-4716-9162-2c5ae897a0e8",
   "metadata": {},
   "outputs": [],
   "source": [
    "# write your code here "
   ]
  },
  {
   "cell_type": "markdown",
   "id": "b55b0d77-1fa1-491c-96ab-211a2e4b290f",
   "metadata": {},
   "source": [
    "##### 4) Handle Categorical Data using One Hot Encoding\n",
    "\n",
    "Remember to handle the categorical data for both the training and testing datasets"
   ]
  },
  {
   "cell_type": "code",
   "execution_count": null,
   "id": "2dc6af55-b2d4-4a8f-a609-875f6acfb223",
   "metadata": {},
   "outputs": [],
   "source": [
    "# write your code here "
   ]
  },
  {
   "cell_type": "markdown",
   "id": "c76f1cde-228b-4608-ad17-f59959eaa4dc",
   "metadata": {},
   "source": [
    "##### 5) Normalize the following columns:\n",
    "- BsmtFinSF1\n",
    "- 1stFlrSF\n",
    "- GrLivArea\n",
    "- LotArea"
   ]
  },
  {
   "cell_type": "code",
   "execution_count": null,
   "id": "6dd53643-9d31-46d8-bb20-59ff62cc127c",
   "metadata": {},
   "outputs": [],
   "source": [
    "# import the MinMaxScaler Class for Sklearn\n",
    "\n",
    "# create an instance of the class \n",
    "\n",
    "# fit and transform the training data\n",
    "\n",
    "# transform the testing data"
   ]
  },
  {
   "cell_type": "markdown",
   "id": "f6b1e750-c1fc-4552-95b3-a1fbcb20a788",
   "metadata": {},
   "source": [
    "### Step 2: Model Fitting\n",
    "\n",
    "Choose one model and fit it to the data (I would recommend using XGBoost Regressor or RandomForestRegressor)\n",
    "\n",
    "Optional: Fit more than one model and compare them using K-Fold Cross Validation (I recommend only doing this if you have extra time)"
   ]
  },
  {
   "cell_type": "code",
   "execution_count": null,
   "id": "62cadc4f-38cf-4b6f-8221-3065de6c4f34",
   "metadata": {},
   "outputs": [],
   "source": [
    "# import the model \n",
    "\n",
    "# fit the model to the training data"
   ]
  },
  {
   "cell_type": "code",
   "execution_count": null,
   "id": "4f2248d1-073b-4c11-8fe5-376899608a7a",
   "metadata": {},
   "outputs": [],
   "source": [
    "# additional code block if you have time for the optional challenge"
   ]
  },
  {
   "cell_type": "markdown",
   "id": "8cc80eb1-a790-4a3a-962c-841b03ad40cb",
   "metadata": {},
   "source": [
    "### Step 3: Evaluate the Model\n",
    "Find the RMSE of your model when applying it to the testing set"
   ]
  },
  {
   "cell_type": "code",
   "execution_count": null,
   "id": "8cae847c-d2aa-4d0c-b807-f91286c20716",
   "metadata": {},
   "outputs": [],
   "source": [
    "# import the metrics from sklearn\n",
    "\n",
    "# make predictions of the testing data \n",
    "\n",
    "# find the MSE, MAE and R^2 of the model"
   ]
  },
  {
   "cell_type": "markdown",
   "id": "6e41a053-5429-4452-826b-c684abb921d0",
   "metadata": {},
   "source": [
    "### Step 4: Model Interpretability \n",
    "\n",
    "What are the top 3 most important features in your model to predict the Sales Price of a House?\n",
    "\n",
    "Answer:"
   ]
  },
  {
   "cell_type": "code",
   "execution_count": null,
   "id": "94915e7b-0e7d-42f6-91eb-d6b079661b7d",
   "metadata": {},
   "outputs": [],
   "source": [
    "import matplotlib.pyplot as plt\n",
    "import seaborn as sns\n",
    "# write your code here"
   ]
  },
  {
   "cell_type": "markdown",
   "id": "c65ee526-68c8-4839-91dc-469b05a13141",
   "metadata": {},
   "source": [
    "### Extra Time: Applying a Log Transformation to Sale Prices\n",
    "\n",
    "Since the range for SalePrices is very large we will apply a log transformation and refit our model to see if we can achieve better results"
   ]
  },
  {
   "cell_type": "code",
   "execution_count": null,
   "id": "7822f8bc-3871-45d2-b62f-726cd96328fc",
   "metadata": {},
   "outputs": [],
   "source": [
    "# Notice that the range of Sale Prices are very large \n",
    "#np.max(y_train) - np.min(y_train)"
   ]
  },
  {
   "cell_type": "code",
   "execution_count": null,
   "id": "ecc755ee-97f4-4b49-bade-45071d49c7be",
   "metadata": {},
   "outputs": [],
   "source": [
    "# apply log transformation\n",
    "# write your code here"
   ]
  },
  {
   "cell_type": "code",
   "execution_count": null,
   "id": "be8b07b1-9079-4c48-b3a2-85663260bc99",
   "metadata": {},
   "outputs": [],
   "source": [
    "# refit the model \n",
    "\n",
    "# make predictions on testing set \n",
    "\n",
    "# Find MAE, MSE, R^2 of the model"
   ]
  }
 ],
 "metadata": {
  "kernelspec": {
   "display_name": "Python 3",
   "language": "python",
   "name": "python3"
  },
  "language_info": {
   "codemirror_mode": {
    "name": "ipython",
    "version": 3
   },
   "file_extension": ".py",
   "mimetype": "text/x-python",
   "name": "python",
   "nbconvert_exporter": "python",
   "pygments_lexer": "ipython3",
   "version": "3.8.8"
  }
 },
 "nbformat": 4,
 "nbformat_minor": 5
}
