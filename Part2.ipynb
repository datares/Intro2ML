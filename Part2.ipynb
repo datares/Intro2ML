{
  "cells": [
    {
      "cell_type": "markdown",
      "metadata": {
        "id": "vLJT1JzI37EL"
      },
      "source": [
        "# Intro to Deep Learning\n",
        "\n",
        "Now that we have a better hold on traditional ML models from last week, we'll start to look at deep learning.\n",
        "\n",
        "![neural network image](https://miro.medium.com/max/1400/0*_SH7tsNDTkGXWtZb.png\n",
        ")\n",
        "\n",
        "## Why Deep Learning\n",
        "- Deep learning is used commonly today to deal with non-tabular datasets such as images, text, and speech.  \n",
        "    - Common use cases include object recognition (draw bounding boxes around each object in an image), text translation (google translate), and text to speech algorithms like alexa.\n",
        "- We need a different set of algorithms to handle these use cases because \n",
        "usually we need a way to learn features of the input data, and we want to learn features with multiple layers of abstraction\n",
        "    - this contrasts with traditional ML since we usually already have features in our input data (for example tabular data), whereas if we want a model to tell us if an image is a dog or not, then we have no way to easily feed features to the model (eg a dog has 4 legs, a tail, and is fluffy)\n",
        "\n",
        "\n",
        "## Similarities to Traditional ML\n",
        "- We still have the same types of learning: supervised and unsupervised\n",
        "    - reinforcement learning really only works with deep learning\n",
        "\n",
        "\n",
        "## What we're going to work on today\n",
        "- Today we're going to introduce everyone to Keras, a simple deep learning library in python\n",
        "- we'll also start working with non-tabular data domains by talking about how we can build an algorithm to recognize handwritten digits\n",
        "- finally we'll discuss the concept of a Neural Network and a Convolutional Nerual Network\n",
        "\n",
        "\n"
      ]
    },
    {
      "cell_type": "code",
      "execution_count": 1,
      "metadata": {
        "colab": {
          "base_uri": "https://localhost:8080/"
        },
        "id": "fJRAlqEq7n4z",
        "outputId": "fb6c3fd9-52c1-4b4d-c4a4-2e16aeb7dd91"
      },
      "outputs": [
        {
          "name": "stdout",
          "output_type": "stream",
          "text": [
            "[name: \"/device:CPU:0\"\n",
            "device_type: \"CPU\"\n",
            "memory_limit: 268435456\n",
            "locality {\n",
            "}\n",
            "incarnation: 16879338153366029070\n",
            "xla_global_id: -1\n",
            ", name: \"/device:GPU:0\"\n",
            "device_type: \"GPU\"\n",
            "memory_limit: 11320098816\n",
            "locality {\n",
            "  bus_id: 1\n",
            "  links {\n",
            "  }\n",
            "}\n",
            "incarnation: 2110080074044095204\n",
            "physical_device_desc: \"device: 0, name: Tesla K80, pci bus id: 0000:00:04.0, compute capability: 3.7\"\n",
            "xla_global_id: 416903419\n",
            "]\n"
          ]
        }
      ],
      "source": [
        "%matplotlib inline \n",
        "import numpy as np\n",
        "from tensorflow import keras\n",
        "from tensorflow.keras import layers\n",
        "from tensorflow.python.client import device_lib\n",
        "\n",
        "print(device_lib.list_local_devices()) # this will let us run on the GPU if we have it"
      ]
    },
    {
      "cell_type": "code",
      "execution_count": 2,
      "metadata": {
        "id": "88zd9wni-ldY"
      },
      "outputs": [],
      "source": [
        "# Model / data parameters\n",
        "num_classes = 10\n",
        "input_shape = (28, 28, 1)\n",
        "\n",
        "# the data, split between train and test sets - similar to sklearn\n",
        "(x_train, y_train), (x_test, y_test) = keras.datasets.mnist.load_data()\n",
        "# the images are just 2d numpy arrays\n"
      ]
    },
    {
      "cell_type": "code",
      "execution_count": 3,
      "metadata": {
        "colab": {
          "base_uri": "https://localhost:8080/",
          "height": 541
        },
        "id": "gXkc0N4s-tCZ",
        "outputId": "e1053c06-7091-4e61-c6e9-6897571d4b08"
      },
      "outputs": [
        {
          "data": {
            "image/png": "[encoded data removed]",
            "text/plain": [
              "<Figure size 432x288 with 1 Axes>"
            ]
          },
          "metadata": {
            "needs_background": "light"
          },
          "output_type": "display_data"
        },
        {
          "data": {
            "image/png": "[encoded data removed]",
            "text/plain": [
              "<Figure size 432x288 with 1 Axes>"
            ]
          },
          "metadata": {
            "needs_background": "light"
          },
          "output_type": "display_data"
        }
      ],
      "source": [
        "from matplotlib import pyplot as plt\n",
        "\n",
        "for i in range(2):\n",
        "    img = x_train[i]\n",
        "    cls = y_train[i]\n",
        "    plt.imshow(img, interpolation='nearest', cmap=plt.cm.binary)\n",
        "    plt.xlabel(f\"Data label: {cls}\")\n",
        "    plt.show()\n"
      ]
    },
    {
      "cell_type": "markdown",
      "metadata": {
        "id": "mHT4LL7UAG-k"
      },
      "source": [
        "# data preprocessing\n",
        "- currently our data is a grayscale image, so each of our values are in the range [0, 255] (RGB colors are 8 bit)\n",
        "    - just as with normal data cleaning, we like to have our values in some predefined range because big numbers can lead to numerical errors when using models, so we'd like to get everything in the range [0, 1] instead"
      ]
    },
    {
      "cell_type": "code",
      "execution_count": 4,
      "metadata": {
        "colab": {
          "base_uri": "https://localhost:8080/"
        },
        "id": "3C3BWMml-FM4",
        "outputId": "acc710ed-cf67-4be5-95c3-d23bd63f60f6"
      },
      "outputs": [
        {
          "name": "stdout",
          "output_type": "stream",
          "text": [
            "x_train shape: (60000, 28, 28, 1)\n",
            "60000 train samples\n",
            "10000 test samples\n"
          ]
        }
      ],
      "source": [
        "# Scale images to the [0, 1] range\n",
        "x_train = x_train.astype(\"float32\") / 255\n",
        "x_test = x_test.astype(\"float32\") / 255\n",
        "\n",
        "# Make sure images have shape (28, 28, 1)\n",
        "x_train = np.expand_dims(x_train, -1)\n",
        "x_test = np.expand_dims(x_test, -1)\n",
        "print(\"x_train shape:\", x_train.shape)\n",
        "print(x_train.shape[0], \"train samples\")\n",
        "print(x_test.shape[0], \"test samples\")\n",
        "\n",
        "# convert class vectors to binary class matrices\n",
        "y_train = keras.utils.to_categorical(y_train, num_classes)\n",
        "y_test = keras.utils.to_categorical(y_test, num_classes)"
      ]
    },
    {
      "cell_type": "markdown",
      "metadata": {
        "id": "E-HjZBwlBDSr"
      },
      "source": [
        "# Building the Model\n",
        "\n",
        "- Now we have to actually build our model.  In deep learning, models are comprised of individual units called layers, which is just a function that takes in inputs and gives an output.  \n",
        "\n",
        "## Convolutions\n",
        "- a convolution is just a spicy matrix multiplication\n",
        "- it has had a lot of success in deep neural networks and computer vision because it mathematically captures the idea of a receptive field in images to recognize features\n",
        "\n",
        "![convolution gif](https://miro.medium.com/max/1400/1*D6iRfzDkz-sEzyjYoVZ73w.gif)\n",
        "\n",
        "- why this works isn't too important for now, but just knowing what it is and what it does is most helpful \n",
        "\n",
        "## Maxpooling \n",
        "- When we've finished applying our convolution we want to only take the most important features from the previous layer.  This is just another simple mathematical operation known as maxpooling\n",
        "\n",
        "![image.gif](https://nico-curti.github.io/NumPyNet/NumPyNet/images/maxpool.gif)\n",
        "\n",
        "\n",
        "## Activation function\n",
        "- Although a layer is just a function, we like to take the output of the layer and pass it through another function called an activation function.\n",
        "- this is usually a nonlinear function that helps scale the output values to some range and help the model generalize to outside data.\n",
        "\n",
        "![image.png](https://miro.medium.com/max/1400/1*XxxiA0jJvPrHEJHD4z893g.png)\n"
      ]
    },
    {
      "cell_type": "code",
      "execution_count": 5,
      "metadata": {
        "colab": {
          "base_uri": "https://localhost:8080/"
        },
        "id": "Ia1yMJUG-Lzr",
        "outputId": "581184a4-c487-43e9-f572-f291cba69f41"
      },
      "outputs": [
        {
          "name": "stdout",
          "output_type": "stream",
          "text": [
            "Model: \"sequential\"\n",
            "_________________________________________________________________\n",
            " Layer (type)                Output Shape              Param #   \n",
            "=================================================================\n",
            " conv2d (Conv2D)             (None, 26, 26, 32)        320       \n",
            "                                                                 \n",
            " max_pooling2d (MaxPooling2D  (None, 13, 13, 32)       0         \n",
            " )                                                               \n",
            "                                                                 \n",
            " conv2d_1 (Conv2D)           (None, 11, 11, 64)        18496     \n",
            "                                                                 \n",
            " max_pooling2d_1 (MaxPooling  (None, 5, 5, 64)         0         \n",
            " 2D)                                                             \n",
            "                                                                 \n",
            " flatten (Flatten)           (None, 1600)              0         \n",
            "                                                                 \n",
            " dropout (Dropout)           (None, 1600)              0         \n",
            "                                                                 \n",
            " dense (Dense)               (None, 10)                16010     \n",
            "                                                                 \n",
            "=================================================================\n",
            "Total params: 34,826\n",
            "Trainable params: 34,826\n",
            "Non-trainable params: 0\n",
            "_________________________________________________________________\n"
          ]
        }
      ],
      "source": [
        "model = keras.Sequential(\n",
        "    [\n",
        "        keras.Input(shape=input_shape),\n",
        "        layers.Conv2D(32, kernel_size=(3, 3), activation=\"relu\"),\n",
        "        layers.MaxPooling2D(pool_size=(2, 2)),\n",
        "        layers.Conv2D(64, kernel_size=(3, 3), activation=\"relu\"),\n",
        "        layers.MaxPooling2D(pool_size=(2, 2)),\n",
        "        layers.Flatten(),\n",
        "        layers.Dropout(0.5),\n",
        "        layers.Dense(num_classes, activation=\"softmax\"),\n",
        "    ]\n",
        ")\n",
        "\n",
        "model.summary()\n"
      ]
    },
    {
      "cell_type": "markdown",
      "metadata": {
        "id": "2_df3U9uSNzP"
      },
      "source": [
        "# What our model does \n",
        "\n",
        "![model gif](https://cdn-images-1.medium.com/max/600/1*QPRC1lcfYxcWWPAC2hrQgg.gif)"
      ]
    },
    {
      "cell_type": "markdown",
      "metadata": {
        "id": "CjuQFjo3DMCO"
      },
      "source": [
        "# Running the model\n",
        "- There are a few parameters to discuss before we run the model\n",
        "1. Batch size is how the number of samples processed by the model at each step\n",
        "    - higher batch size means our model sees more data points before we update the parameters, so hopefully we're making less sporadic steps towards the optimum\n",
        "2. Epochs is the total number of times we go over the entire dataset during training.\n",
        "    - in our case epochs is set to 15, so our model sees the entire training set 15 times before we stop training.  Higher values should produce better metrics but it can also lead to overfitting"
      ]
    },
    {
      "cell_type": "code",
      "execution_count": 6,
      "metadata": {
        "colab": {
          "base_uri": "https://localhost:8080/"
        },
        "id": "o0yFlxjyCyHa",
        "outputId": "fec2f0bc-efb6-4837-b446-f7b195b8b686"
      },
      "outputs": [
        {
          "name": "stdout",
          "output_type": "stream",
          "text": [
            "Epoch 1/15\n",
            "422/422 [==============================] - 6s 10ms/step - loss: 0.3670 - accuracy: 0.8862 - val_loss: 0.0827 - val_accuracy: 0.9772\n",
            "Epoch 2/15\n",
            "422/422 [==============================] - 4s 9ms/step - loss: 0.1142 - accuracy: 0.9651 - val_loss: 0.0565 - val_accuracy: 0.9842\n",
            "Epoch 3/15\n",
            "422/422 [==============================] - 4s 9ms/step - loss: 0.0878 - accuracy: 0.9727 - val_loss: 0.0478 - val_accuracy: 0.9873\n",
            "Epoch 4/15\n",
            "422/422 [==============================] - 4s 9ms/step - loss: 0.0747 - accuracy: 0.9764 - val_loss: 0.0437 - val_accuracy: 0.9880\n",
            "Epoch 5/15\n",
            "422/422 [==============================] - 4s 8ms/step - loss: 0.0652 - accuracy: 0.9802 - val_loss: 0.0406 - val_accuracy: 0.9883\n",
            "Epoch 6/15\n",
            "422/422 [==============================] - 4s 9ms/step - loss: 0.0592 - accuracy: 0.9814 - val_loss: 0.0378 - val_accuracy: 0.9893\n",
            "Epoch 7/15\n",
            "422/422 [==============================] - 4s 9ms/step - loss: 0.0540 - accuracy: 0.9833 - val_loss: 0.0341 - val_accuracy: 0.9897\n",
            "Epoch 8/15\n",
            "422/422 [==============================] - 4s 9ms/step - loss: 0.0497 - accuracy: 0.9846 - val_loss: 0.0358 - val_accuracy: 0.9905\n",
            "Epoch 9/15\n",
            "422/422 [==============================] - 4s 8ms/step - loss: 0.0469 - accuracy: 0.9854 - val_loss: 0.0332 - val_accuracy: 0.9898\n",
            "Epoch 10/15\n",
            "422/422 [==============================] - 4s 8ms/step - loss: 0.0441 - accuracy: 0.9861 - val_loss: 0.0309 - val_accuracy: 0.9902\n",
            "Epoch 11/15\n",
            "422/422 [==============================] - 4s 9ms/step - loss: 0.0427 - accuracy: 0.9860 - val_loss: 0.0296 - val_accuracy: 0.9915\n",
            "Epoch 12/15\n",
            "422/422 [==============================] - 4s 9ms/step - loss: 0.0380 - accuracy: 0.9871 - val_loss: 0.0296 - val_accuracy: 0.9920\n",
            "Epoch 13/15\n",
            "422/422 [==============================] - 4s 9ms/step - loss: 0.0389 - accuracy: 0.9877 - val_loss: 0.0293 - val_accuracy: 0.9923\n",
            "Epoch 14/15\n",
            "422/422 [==============================] - 4s 9ms/step - loss: 0.0365 - accuracy: 0.9886 - val_loss: 0.0287 - val_accuracy: 0.9928\n",
            "Epoch 15/15\n",
            "422/422 [==============================] - 4s 9ms/step - loss: 0.0343 - accuracy: 0.9891 - val_loss: 0.0291 - val_accuracy: 0.9907\n"
          ]
        },
        {
          "data": {
            "text/plain": [
              "<keras.callbacks.History at 0x7fb4227de390>"
            ]
          },
          "execution_count": 6,
          "metadata": {},
          "output_type": "execute_result"
        }
      ],
      "source": [
        "batch_size = 128\n",
        "epochs = 15\n",
        "\n",
        "model.compile(loss=\"categorical_crossentropy\", optimizer=\"adam\", metrics=[\"accuracy\"])\n",
        "\n",
        "model.fit(x_train, y_train, batch_size=batch_size, epochs=epochs, validation_split=0.1)"
      ]
    },
    {
      "cell_type": "code",
      "execution_count": 7,
      "metadata": {
        "colab": {
          "base_uri": "https://localhost:8080/"
        },
        "id": "P0bws8LARrnu",
        "outputId": "5133f123-21a3-47c8-e2bb-8627089efffd"
      },
      "outputs": [
        {
          "name": "stdout",
          "output_type": "stream",
          "text": [
            "Test loss: 0.026940423995256424\n",
            "Test accuracy: 0.9907000064849854\n"
          ]
        }
      ],
      "source": [
        "score = model.evaluate(x_test, y_test, verbose=0)\n",
        "print(\"Test loss:\", score[0])\n",
        "print(\"Test accuracy:\", score[1])\n"
      ]
    },
    {
      "cell_type": "markdown",
      "metadata": {
        "id": "-AqRrq7QNIiC"
      },
      "source": [
        "# How learning happens\n",
        "- so far we've been able to actually train a deep learning model to recognize digits to almost perfect accuracy, but the question of how the \"learning\" process actually happens still eludes us\n",
        "\n",
        "## it's actually not that hard\n",
        "- We can describe the learning process in 3 steps\n",
        "1. We calculate how bad our current model is using the loss function\n",
        "    - the loss function $L$ is a scalar function that takes as inputs our model's output $\\hat{y}$ and the true value $y$ and returns a scalar value\n",
        "    - it's just a function that measures the distance between our output and the true value\n",
        "\n",
        "$L: \\mathbb{R}^n * \\mathbb{R}^n \\rightarrow \\mathbb{R}$\n",
        "\n",
        "2. We calculate the derivative of our loss with respect to every parameter in our model\n",
        "    - if you know about simple algorithms like Newton's Method and Fixed Point Iteration, this is essentially what we're doing\n",
        "\n",
        "3. We subtract the derivative times a small constant $\\alpha$ from the current parameter's value\n",
        "\n",
        "$ x_{n+1} = x_{n} - \\alpha * \\frac{\\partial L}{\\partial x_n}$\n",
        "when $x_{n}$ converges to during training $x^*$, we're at a local optimum, which can be shown by noting that\n",
        "\n",
        "$$\\begin{aligned}\n",
        " x^* &= x^* - \\alpha * \\frac{\\partial L}{\\partial x_n} \\\\ \n",
        "    \\alpha \\frac{\\partial L}{\\partial x_n} &= 0 \\\\ \n",
        "    \\frac{\\partial L}{\\partial x_n} &= 0\n",
        "\\end{aligned}$$\n",
        "\n",
        "and we know that when the derivative is zero, we're at an optimal value.  Whether or not this optimum is global is a much harder question, and it's possible that during training your model converges to a non-global optimum or a saddle point.\n",
        "\n",
        "In reality, this is all handled by the library, and we never have to think about the backpropogation or optimization steps.  Plus, these calculations get a ton harder since most neural networks are actually a ton of matrix multiplications, so we'd be taking the derivative of a scalar value with respect to a bunch of matricies (good luck with that)\n",
        "\n",
        "This process is called Stochastic Gradient Descent and it's best illustrated with a picture \n",
        "![gradient descent gif](https://hackernoon.com/hn-images/0*D7zG46WrdKx54pbU.gif)\n",
        "\n"
      ]
    },
    {
      "cell_type": "markdown",
      "metadata": {},
      "source": []
    }
  ],
  "metadata": {
    "accelerator": "GPU",
    "colab": {
      "name": "Part2.ipynb",
      "provenance": []
    },
    "kernelspec": {
      "display_name": "Python 3",
      "name": "python3"
    },
    "language_info": {
      "name": "python"
    }
  },
  "nbformat": 4,
  "nbformat_minor": 0
}
